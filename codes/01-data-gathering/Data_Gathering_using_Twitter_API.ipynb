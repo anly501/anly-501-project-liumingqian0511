{
  "nbformat": 4,
  "nbformat_minor": 0,
  "metadata": {
    "colab": {
      "provenance": []
    },
    "kernelspec": {
      "name": "python3",
      "display_name": "Python 3"
    },
    "language_info": {
      "name": "python"
    }
  },
  "cells": [
    {
      "cell_type": "code",
      "execution_count": null,
      "metadata": {
        "id": "kougMyICtNx2"
      },
      "outputs": [],
      "source": [
        "import pandas as pd\n",
        "import os\n",
        "import time\n",
        "import requests\n",
        "import json\n",
        "import csv\n",
        "from tqdm import tqdm\n",
        "\n",
        "import tweepy\n",
        "\n",
        "import requests\n",
        "import pandas as pd\n",
        "import os\n",
        "import matplotlib.pyplot as plt"
      ]
    },
    {
      "cell_type": "code",
      "source": [
        "from google.colab import drive \n",
        "drive.mount('/content/gdrive')\n",
        "import os\n",
        "os.chdir(\"gdrive/My Drive/Colab Notebooks/API_data\")"
      ],
      "metadata": {
        "colab": {
          "base_uri": "https://localhost:8080/"
        },
        "id": "astG21yeDPiM",
        "outputId": "531383db-9b68-447e-e929-5dab72a11846"
      },
      "execution_count": null,
      "outputs": [
        {
          "output_type": "stream",
          "name": "stdout",
          "text": [
            "Mounted at /content/gdrive\n"
          ]
        }
      ]
    },
    {
      "cell_type": "code",
      "source": [
        "consumer_key = 'Yf97lN35cmpNjqvs4YloK5bgj'\n",
        "consumer_secret = 'gtx7aYcUfP8xR4UcSP53h7HkVnq8oUnn3hQgH24tKmMPJ9wZlw'\n",
        "access_token = '1453449116302860297-8CBLV2AMCBbMQcmzyzxr9beZo03EkU'\n",
        "access_token_secret = 'll1zMrp5eaTOxLYXrO8lhaph7IL4paJ4PjAdkrri6ILKY'\n",
        "bearer_token = 'AAAAAAAAAAAAAAAAAAAAABVsegEAAAAASKd3LMyDMSW7bO6pWA0iF9R23cM%3DsCTiS4uKWVzw9tqUhmvD5NDL6zbnd2NCO5BK66jcG3uanmxz6D'"
      ],
      "metadata": {
        "id": "OflI_Jnp3YFc"
      },
      "execution_count": null,
      "outputs": []
    },
    {
      "cell_type": "code",
      "source": [
        "# Authenticate to Twitter\n",
        "auth = tweepy.OAuthHandler(consumer_key, consumer_secret)\n",
        "auth.set_access_token(access_token, access_token_secret)\n",
        "api = tweepy.API(auth) "
      ],
      "metadata": {
        "id": "yUr7fbzp3Pyv"
      },
      "execution_count": null,
      "outputs": []
    },
    {
      "cell_type": "code",
      "source": [
        "# define search_twitter function\n",
        "def search_twitter(query, max_results,tweet_fields, bearer_token = bearer_token):\n",
        "    headers = {\"Authorization\": \"Bearer {}\".format(bearer_token)}\n",
        "    url = \"https://api.twitter.com/2/tweets/search/recent?query={}&max_results={}&{}\".format(query, max_results,tweet_fields)\n",
        "    print(\"--------------\",url,\"--------------\")\n",
        "    response = requests.request(\"GET\", url, headers=headers)\n",
        "    if response.status_code != 200:\n",
        "        raise Exception(response.status_code, response.text)\n",
        "    return response.json()"
      ],
      "metadata": {
        "id": "1UNXJC2L3Szz"
      },
      "execution_count": null,
      "outputs": []
    },
    {
      "cell_type": "code",
      "source": [
        "tweet_fields = \"tweet.fields=text,author_id,created_at,lang\"\n",
        "search_tweets = ['health insurance','medical insurance','medical plan','health care','medicare','medicaid','insurance','health insurance plan','deductible','coinsurance']\n",
        "for idx,val in enumerate(search_tweets):\n",
        "    tweets_jsondump = []\n",
        "    json_response1 = search_twitter(query = str(val), max_results = 100, tweet_fields = tweet_fields, bearer_token=bearer_token)\n",
        "    json_response2 = search_twitter(query = str(val), max_results = 100, tweet_fields = tweet_fields, bearer_token=bearer_token)\n",
        "    json_response3 = search_twitter(query = str(val), max_results = 100, tweet_fields = tweet_fields, bearer_token=bearer_token)\n",
        "\n",
        "    for i in json_response1['data']:\n",
        "        tweets_jsondump.append(i)\n",
        "    for i in json_response2['data']:\n",
        "        tweets_jsondump.append(i)\n",
        "    for i in json_response3['data']:\n",
        "        tweets_jsondump.append(i)\n",
        "    with open('tweets'+str(val)+'.json','w') as json_file:\n",
        "        json.dump(tweets_jsondump,json_file)\n",
        "        json_file.close()"
      ],
      "metadata": {
        "colab": {
          "base_uri": "https://localhost:8080/"
        },
        "id": "juwDVNTZ3izs",
        "outputId": "9eb2aab7-955b-40b9-e7b4-0341e4bc2b2b"
      },
      "execution_count": null,
      "outputs": [
        {
          "output_type": "stream",
          "name": "stdout",
          "text": [
            "-------------- https://api.twitter.com/2/tweets/search/recent?query=health insurance&max_results=100&tweet.fields=text,author_id,created_at,lang --------------\n",
            "-------------- https://api.twitter.com/2/tweets/search/recent?query=health insurance&max_results=100&tweet.fields=text,author_id,created_at,lang --------------\n",
            "-------------- https://api.twitter.com/2/tweets/search/recent?query=health insurance&max_results=100&tweet.fields=text,author_id,created_at,lang --------------\n",
            "-------------- https://api.twitter.com/2/tweets/search/recent?query=medical insurance&max_results=100&tweet.fields=text,author_id,created_at,lang --------------\n",
            "-------------- https://api.twitter.com/2/tweets/search/recent?query=medical insurance&max_results=100&tweet.fields=text,author_id,created_at,lang --------------\n",
            "-------------- https://api.twitter.com/2/tweets/search/recent?query=medical insurance&max_results=100&tweet.fields=text,author_id,created_at,lang --------------\n",
            "-------------- https://api.twitter.com/2/tweets/search/recent?query=medical plan&max_results=100&tweet.fields=text,author_id,created_at,lang --------------\n",
            "-------------- https://api.twitter.com/2/tweets/search/recent?query=medical plan&max_results=100&tweet.fields=text,author_id,created_at,lang --------------\n",
            "-------------- https://api.twitter.com/2/tweets/search/recent?query=medical plan&max_results=100&tweet.fields=text,author_id,created_at,lang --------------\n",
            "-------------- https://api.twitter.com/2/tweets/search/recent?query=health care&max_results=100&tweet.fields=text,author_id,created_at,lang --------------\n",
            "-------------- https://api.twitter.com/2/tweets/search/recent?query=health care&max_results=100&tweet.fields=text,author_id,created_at,lang --------------\n",
            "-------------- https://api.twitter.com/2/tweets/search/recent?query=health care&max_results=100&tweet.fields=text,author_id,created_at,lang --------------\n",
            "-------------- https://api.twitter.com/2/tweets/search/recent?query=medicare&max_results=100&tweet.fields=text,author_id,created_at,lang --------------\n",
            "-------------- https://api.twitter.com/2/tweets/search/recent?query=medicare&max_results=100&tweet.fields=text,author_id,created_at,lang --------------\n",
            "-------------- https://api.twitter.com/2/tweets/search/recent?query=medicare&max_results=100&tweet.fields=text,author_id,created_at,lang --------------\n",
            "-------------- https://api.twitter.com/2/tweets/search/recent?query=medicaid&max_results=100&tweet.fields=text,author_id,created_at,lang --------------\n",
            "-------------- https://api.twitter.com/2/tweets/search/recent?query=medicaid&max_results=100&tweet.fields=text,author_id,created_at,lang --------------\n",
            "-------------- https://api.twitter.com/2/tweets/search/recent?query=medicaid&max_results=100&tweet.fields=text,author_id,created_at,lang --------------\n",
            "-------------- https://api.twitter.com/2/tweets/search/recent?query=insurance&max_results=100&tweet.fields=text,author_id,created_at,lang --------------\n",
            "-------------- https://api.twitter.com/2/tweets/search/recent?query=insurance&max_results=100&tweet.fields=text,author_id,created_at,lang --------------\n",
            "-------------- https://api.twitter.com/2/tweets/search/recent?query=insurance&max_results=100&tweet.fields=text,author_id,created_at,lang --------------\n",
            "-------------- https://api.twitter.com/2/tweets/search/recent?query=health insurance plan&max_results=100&tweet.fields=text,author_id,created_at,lang --------------\n",
            "-------------- https://api.twitter.com/2/tweets/search/recent?query=health insurance plan&max_results=100&tweet.fields=text,author_id,created_at,lang --------------\n",
            "-------------- https://api.twitter.com/2/tweets/search/recent?query=health insurance plan&max_results=100&tweet.fields=text,author_id,created_at,lang --------------\n",
            "-------------- https://api.twitter.com/2/tweets/search/recent?query=deductible&max_results=100&tweet.fields=text,author_id,created_at,lang --------------\n",
            "-------------- https://api.twitter.com/2/tweets/search/recent?query=deductible&max_results=100&tweet.fields=text,author_id,created_at,lang --------------\n",
            "-------------- https://api.twitter.com/2/tweets/search/recent?query=deductible&max_results=100&tweet.fields=text,author_id,created_at,lang --------------\n",
            "-------------- https://api.twitter.com/2/tweets/search/recent?query=coinsurance&max_results=100&tweet.fields=text,author_id,created_at,lang --------------\n",
            "-------------- https://api.twitter.com/2/tweets/search/recent?query=coinsurance&max_results=100&tweet.fields=text,author_id,created_at,lang --------------\n",
            "-------------- https://api.twitter.com/2/tweets/search/recent?query=coinsurance&max_results=100&tweet.fields=text,author_id,created_at,lang --------------\n"
          ]
        }
      ]
    },
    {
      "cell_type": "code",
      "source": [
        "import os, json\n",
        "import pandas as pd\n",
        "json_files = [pos_json for pos_json in os.listdir('./') if pos_json.endswith('.json')]\n",
        "print(json_files) "
      ],
      "metadata": {
        "colab": {
          "base_uri": "https://localhost:8080/"
        },
        "id": "ge-vyJEjPb5h",
        "outputId": "6d21d57e-beec-4b24-a847-b0ef23caf575"
      },
      "execution_count": null,
      "outputs": [
        {
          "output_type": "stream",
          "name": "stdout",
          "text": [
            "['tweets health insurance.json', 'tweetsmedical plan.json', 'tweetsmedical insurance.json', 'tweetshealth care.json', 'tweetsmedicare.json', 'tweetsmedicaid.json', 'tweetsinsurance.json', 'tweetshealth insurance plan.json', 'tweetscoinsurance.json', 'tweetsdeductible.json', 'tweetshealth insurance.json']\n"
          ]
        }
      ]
    },
    {
      "cell_type": "code",
      "source": [
        "tweet_fields = \"tweet.fields=text,author_id,created_at,lang\"\n",
        "search_tweets = ['covid','vaccine','policy','health','doctor','patients','insurance','cover','medicaid','medicare']\n",
        "#client = tweepy.Client(bearer_token)\n",
        "\n",
        "df = pd.DataFrame({'words':search_tweets,'count':[0]*10})\n",
        "\n",
        "for idx, val in enumerate(json_files):\n",
        "    open_json = open('./'+val)\n",
        "    load_json = json.load(open_json)\n",
        "    df_tweet = pd.DataFrame(load_json)\n",
        "    for word in search_tweets:\n",
        "        for i in range(len(df_tweet.text)): \n",
        "            if word in df_tweet['text'][i]:# condition satisfied?\n",
        "                df.loc[df['words']==word,'count'] += 1\n",
        "\n",
        "print(df)\n",
        "\n",
        "ax = df.sort_values('count').plot(x = 'words',y='count',kind='bar')\n",
        "ax.set_title('Frequency of Words')\n",
        "ax.set_xlabel('word')\n",
        "ax.set_ylabel('Count')"
      ],
      "metadata": {
        "colab": {
          "base_uri": "https://localhost:8080/",
          "height": 538
        },
        "id": "QO7aKBaHPI04",
        "outputId": "50b8eb40-bec7-4785-a1d0-c79f4d75d133"
      },
      "execution_count": null,
      "outputs": [
        {
          "output_type": "stream",
          "name": "stdout",
          "text": [
            "       words  count\n",
            "0      covid      0\n",
            "1    vaccine      3\n",
            "2     policy     36\n",
            "3     health    928\n",
            "4     doctor     93\n",
            "5   patients     33\n",
            "6  insurance   1223\n",
            "7      cover    383\n",
            "8   medicaid     21\n",
            "9   medicare     12\n"
          ]
        },
        {
          "output_type": "execute_result",
          "data": {
            "text/plain": [
              "Text(0, 0.5, 'Count')"
            ]
          },
          "metadata": {},
          "execution_count": 8
        },
        {
          "output_type": "display_data",
          "data": {
            "text/plain": [
              "<Figure size 432x288 with 1 Axes>"
            ],
            "image/png": "[encoded data removed]"
          },
          "metadata": {
            "needs_background": "light"
          }
        }
      ]
    }
  ]
}