{
  "cells": [
    {
      "cell_type": "code",
      "execution_count": 1,
      "metadata": {
        "id": "kougMyICtNx2"
      },
      "outputs": [],
      "source": [
        "import pandas as pd\n",
        "import os\n",
        "import time\n",
        "import requests\n",
        "import json\n",
        "import csv\n",
        "from tqdm import tqdm\n",
        "\n",
        "import tweepy\n",
        "\n",
        "import requests\n",
        "import pandas as pd\n",
        "import os\n",
        "import matplotlib.pyplot as plt"
      ]
    },
    {
      "cell_type": "code",
      "execution_count": 5,
      "metadata": {
        "colab": {
          "base_uri": "https://localhost:8080/"
        },
        "id": "astG21yeDPiM",
        "outputId": "531383db-9b68-447e-e929-5dab72a11846"
      },
      "outputs": [],
      "source": [
        "#from google.colab import drive \n",
        "#drive.mount('/content/gdrive')\n",
        "#import os\n",
        "#os.chdir(\"gdrive/My Drive/Colab Notebooks/API_data\")"
      ]
    },
    {
      "cell_type": "code",
      "execution_count": 2,
      "metadata": {
        "id": "OflI_Jnp3YFc"
      },
      "outputs": [],
      "source": [
        "consumer_key = 'Yf97lN35cmpNjqvs4YloK5bgj'\n",
        "consumer_secret = 'gtx7aYcUfP8xR4UcSP53h7HkVnq8oUnn3hQgH24tKmMPJ9wZlw'\n",
        "access_token = '1453449116302860297-8CBLV2AMCBbMQcmzyzxr9beZo03EkU'\n",
        "access_token_secret = 'll1zMrp5eaTOxLYXrO8lhaph7IL4paJ4PjAdkrri6ILKY'\n",
        "bearer_token = 'AAAAAAAAAAAAAAAAAAAAABVsegEAAAAASKd3LMyDMSW7bO6pWA0iF9R23cM%3DsCTiS4uKWVzw9tqUhmvD5NDL6zbnd2NCO5BK66jcG3uanmxz6D'"
      ]
    },
    {
      "cell_type": "code",
      "execution_count": 3,
      "metadata": {
        "id": "yUr7fbzp3Pyv"
      },
      "outputs": [],
      "source": [
        "# Authenticate to Twitter\n",
        "auth = tweepy.OAuthHandler(consumer_key, consumer_secret)\n",
        "auth.set_access_token(access_token, access_token_secret)\n",
        "api = tweepy.API(auth) "
      ]
    },
    {
      "cell_type": "code",
      "execution_count": 4,
      "metadata": {
        "id": "1UNXJC2L3Szz"
      },
      "outputs": [],
      "source": [
        "# define search_twitter function\n",
        "def search_twitter(query, max_results,tweet_fields, bearer_token = bearer_token):\n",
        "    headers = {\"Authorization\": \"Bearer {}\".format(bearer_token)}\n",
        "    url = \"https://api.twitter.com/2/tweets/search/recent?query={}&max_results={}&{}\".format(query, max_results,tweet_fields)\n",
        "    print(\"--------------\",url,\"--------------\")\n",
        "    response = requests.request(\"GET\", url, headers=headers)\n",
        "    if response.status_code != 200:\n",
        "        raise Exception(response.status_code, response.text)\n",
        "    return response.json()"
      ]
    },
    {
      "cell_type": "code",
      "execution_count": 14,
      "metadata": {
        "colab": {
          "base_uri": "https://localhost:8080/"
        },
        "id": "juwDVNTZ3izs",
        "outputId": "9eb2aab7-955b-40b9-e7b4-0341e4bc2b2b"
      },
      "outputs": [
        {
          "name": "stdout",
          "output_type": "stream",
          "text": [
            "-------------- https://api.twitter.com/2/tweets/search/recent?query=#UnitedHealth&max_results=100&tweet.fields=text,author_id,created_at,lang --------------\n"
          ]
        },
        {
          "ename": "Exception",
          "evalue": "(400, '{\"errors\":[{\"parameters\":{\"query\":[\"\"]},\"message\":\"Invalid \\'query\\':\\'\\'. \\'query\\' must be a non-empty string\"}],\"title\":\"Invalid Request\",\"detail\":\"One or more parameters to your request was invalid.\",\"type\":\"https://api.twitter.com/2/problems/invalid-request\"}')",
          "output_type": "error",
          "traceback": [
            "\u001b[0;31m---------------------------------------------------------------------------\u001b[0m",
            "\u001b[0;31mException\u001b[0m                                 Traceback (most recent call last)",
            "\u001b[1;32m/Users/liumingqian/anly-501-project-liumingqian0511/codes/01-data-gathering/Data_Gathering_using_Twitter_API.ipynb Cell 6\u001b[0m in \u001b[0;36m<cell line: 3>\u001b[0;34m()\u001b[0m\n\u001b[1;32m      <a href='vscode-notebook-cell:/Users/liumingqian/anly-501-project-liumingqian0511/codes/01-data-gathering/Data_Gathering_using_Twitter_API.ipynb#W5sZmlsZQ%3D%3D?line=2'>3</a>\u001b[0m \u001b[39mfor\u001b[39;00m idx,val \u001b[39min\u001b[39;00m \u001b[39menumerate\u001b[39m(search_tweets):\n\u001b[1;32m      <a href='vscode-notebook-cell:/Users/liumingqian/anly-501-project-liumingqian0511/codes/01-data-gathering/Data_Gathering_using_Twitter_API.ipynb#W5sZmlsZQ%3D%3D?line=3'>4</a>\u001b[0m     tweets_jsondump \u001b[39m=\u001b[39m []\n\u001b[0;32m----> <a href='vscode-notebook-cell:/Users/liumingqian/anly-501-project-liumingqian0511/codes/01-data-gathering/Data_Gathering_using_Twitter_API.ipynb#W5sZmlsZQ%3D%3D?line=4'>5</a>\u001b[0m     json_response1 \u001b[39m=\u001b[39m search_twitter(query \u001b[39m=\u001b[39;49m \u001b[39mstr\u001b[39;49m(val), max_results \u001b[39m=\u001b[39;49m \u001b[39m100\u001b[39;49m, tweet_fields \u001b[39m=\u001b[39;49m tweet_fields, bearer_token\u001b[39m=\u001b[39;49mbearer_token)\n\u001b[1;32m      <a href='vscode-notebook-cell:/Users/liumingqian/anly-501-project-liumingqian0511/codes/01-data-gathering/Data_Gathering_using_Twitter_API.ipynb#W5sZmlsZQ%3D%3D?line=5'>6</a>\u001b[0m     json_response2 \u001b[39m=\u001b[39m search_twitter(query \u001b[39m=\u001b[39m \u001b[39mstr\u001b[39m(val), max_results \u001b[39m=\u001b[39m \u001b[39m100\u001b[39m, tweet_fields \u001b[39m=\u001b[39m tweet_fields, bearer_token\u001b[39m=\u001b[39mbearer_token)\n\u001b[1;32m      <a href='vscode-notebook-cell:/Users/liumingqian/anly-501-project-liumingqian0511/codes/01-data-gathering/Data_Gathering_using_Twitter_API.ipynb#W5sZmlsZQ%3D%3D?line=6'>7</a>\u001b[0m     json_response3 \u001b[39m=\u001b[39m search_twitter(query \u001b[39m=\u001b[39m \u001b[39mstr\u001b[39m(val), max_results \u001b[39m=\u001b[39m \u001b[39m100\u001b[39m, tweet_fields \u001b[39m=\u001b[39m tweet_fields, bearer_token\u001b[39m=\u001b[39mbearer_token)\n",
            "\u001b[1;32m/Users/liumingqian/anly-501-project-liumingqian0511/codes/01-data-gathering/Data_Gathering_using_Twitter_API.ipynb Cell 6\u001b[0m in \u001b[0;36msearch_twitter\u001b[0;34m(query, max_results, tweet_fields, bearer_token)\u001b[0m\n\u001b[1;32m      <a href='vscode-notebook-cell:/Users/liumingqian/anly-501-project-liumingqian0511/codes/01-data-gathering/Data_Gathering_using_Twitter_API.ipynb#W5sZmlsZQ%3D%3D?line=5'>6</a>\u001b[0m response \u001b[39m=\u001b[39m requests\u001b[39m.\u001b[39mrequest(\u001b[39m\"\u001b[39m\u001b[39mGET\u001b[39m\u001b[39m\"\u001b[39m, url, headers\u001b[39m=\u001b[39mheaders)\n\u001b[1;32m      <a href='vscode-notebook-cell:/Users/liumingqian/anly-501-project-liumingqian0511/codes/01-data-gathering/Data_Gathering_using_Twitter_API.ipynb#W5sZmlsZQ%3D%3D?line=6'>7</a>\u001b[0m \u001b[39mif\u001b[39;00m response\u001b[39m.\u001b[39mstatus_code \u001b[39m!=\u001b[39m \u001b[39m200\u001b[39m:\n\u001b[0;32m----> <a href='vscode-notebook-cell:/Users/liumingqian/anly-501-project-liumingqian0511/codes/01-data-gathering/Data_Gathering_using_Twitter_API.ipynb#W5sZmlsZQ%3D%3D?line=7'>8</a>\u001b[0m     \u001b[39mraise\u001b[39;00m \u001b[39mException\u001b[39;00m(response\u001b[39m.\u001b[39mstatus_code, response\u001b[39m.\u001b[39mtext)\n\u001b[1;32m      <a href='vscode-notebook-cell:/Users/liumingqian/anly-501-project-liumingqian0511/codes/01-data-gathering/Data_Gathering_using_Twitter_API.ipynb#W5sZmlsZQ%3D%3D?line=8'>9</a>\u001b[0m \u001b[39mreturn\u001b[39;00m response\u001b[39m.\u001b[39mjson()\n",
            "\u001b[0;31mException\u001b[0m: (400, '{\"errors\":[{\"parameters\":{\"query\":[\"\"]},\"message\":\"Invalid \\'query\\':\\'\\'. \\'query\\' must be a non-empty string\"}],\"title\":\"Invalid Request\",\"detail\":\"One or more parameters to your request was invalid.\",\"type\":\"https://api.twitter.com/2/problems/invalid-request\"}')"
          ]
        }
      ],
      "source": [
        "tweet_fields = \"tweet.fields=text,author_id,created_at,lang\"\n",
        "search_tweets = ['UnitedHealth','Anthem','Aetna','Cigna','Humana']\n",
        "for idx,val in enumerate(search_tweets):\n",
        "    tweets_jsondump = []\n",
        "    json_response1 = search_twitter(query = str(val), max_results = 100, tweet_fields = tweet_fields, bearer_token=bearer_token)\n",
        "    json_response2 = search_twitter(query = str(val), max_results = 100, tweet_fields = tweet_fields, bearer_token=bearer_token)\n",
        "    json_response3 = search_twitter(query = str(val), max_results = 100, tweet_fields = tweet_fields, bearer_token=bearer_token)\n",
        "\n",
        "    for i in json_response1['data']:\n",
        "        tweets_jsondump.append(i)\n",
        "    for i in json_response2['data']:\n",
        "        tweets_jsondump.append(i)\n",
        "    for i in json_response3['data']:\n",
        "        tweets_jsondump.append(i)\n",
        "    with open(str(val)+'.json','w') as json_file:\n",
        "        json.dump(tweets_jsondump,json_file)\n",
        "        json_file.close()"
      ]
    },
    {
      "cell_type": "code",
      "execution_count": 7,
      "metadata": {
        "colab": {
          "base_uri": "https://localhost:8080/"
        },
        "id": "ge-vyJEjPb5h",
        "outputId": "6d21d57e-beec-4b24-a847-b0ef23caf575"
      },
      "outputs": [
        {
          "name": "stdout",
          "output_type": "stream",
          "text": [
            "['Humana.json', 'Cigna.json', 'UnitedHealth.json', 'Anthem.json', 'Aetna.json']\n"
          ]
        }
      ],
      "source": [
        "import os, json\n",
        "import pandas as pd\n",
        "json_files = [pos_json for pos_json in os.listdir('./') if pos_json.endswith('.json')]\n",
        "print(json_files) "
      ]
    },
    {
      "cell_type": "code",
      "execution_count": 8,
      "metadata": {
        "colab": {
          "base_uri": "https://localhost:8080/",
          "height": 538
        },
        "id": "QO7aKBaHPI04",
        "outputId": "50b8eb40-bec7-4785-a1d0-c79f4d75d133"
      },
      "outputs": [
        {
          "name": "stdout",
          "output_type": "stream",
          "text": [
            "       words  count\n",
            "0      covid      2\n",
            "1    vaccine      0\n",
            "2     policy      0\n",
            "3     health    111\n",
            "4     doctor     18\n",
            "5   patients      9\n",
            "6  insurance     75\n",
            "7      cover     21\n",
            "8   medicaid      0\n",
            "9   medicare      0\n"
          ]
        },
        {
          "data": {
            "text/plain": [
              "Text(0, 0.5, 'Count')"
            ]
          },
          "execution_count": 8,
          "metadata": {},
          "output_type": "execute_result"
        },
        {
          "data": {
            "image/png": "[encoded data removed]",
            "text/plain": [
              "<Figure size 640x480 with 1 Axes>"
            ]
          },
          "metadata": {},
          "output_type": "display_data"
        }
      ],
      "source": [
        "tweet_fields = \"tweet.fields=text,author_id,created_at,lang\"\n",
        "search_tweets = ['covid','vaccine','policy','health','doctor','patients','insurance','cover','medicaid','medicare']\n",
        "#client = tweepy.Client(bearer_token)\n",
        "\n",
        "df = pd.DataFrame({'words':search_tweets,'count':[0]*10})\n",
        "\n",
        "for idx, val in enumerate(json_files):\n",
        "    open_json = open('./'+val)\n",
        "    load_json = json.load(open_json)\n",
        "    df_tweet = pd.DataFrame(load_json)\n",
        "    for word in search_tweets:\n",
        "        for i in range(len(df_tweet.text)): \n",
        "            if word in df_tweet['text'][i]:# condition satisfied?\n",
        "                df.loc[df['words']==word,'count'] += 1\n",
        "\n",
        "print(df)\n",
        "\n",
        "ax = df.sort_values('count').plot(x = 'words',y='count',kind='bar')\n",
        "ax.set_title('Frequency of Words')\n",
        "ax.set_xlabel('word')\n",
        "ax.set_ylabel('Count')"
      ]
    }
  ],
  "metadata": {
    "colab": {
      "provenance": []
    },
    "kernelspec": {
      "display_name": "Python 3.10.4 ('ANLY501')",
      "language": "python",
      "name": "python3"
    },
    "language_info": {
      "codemirror_mode": {
        "name": "ipython",
        "version": 3
      },
      "file_extension": ".py",
      "mimetype": "text/x-python",
      "name": "python",
      "nbconvert_exporter": "python",
      "pygments_lexer": "ipython3",
      "version": "3.10.4"
    },
    "vscode": {
      "interpreter": {
        "hash": "c7b1725a53a00cadd46ef15f4ed641a76ecf8b551f4473e176c4bcc6f018dcb6"
      }
    }
  },
  "nbformat": 4,
  "nbformat_minor": 0
}
